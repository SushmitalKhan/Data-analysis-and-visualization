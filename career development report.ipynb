{
 "cells": [
  {
   "cell_type": "code",
   "execution_count": 1,
   "metadata": {},
   "outputs": [],
   "source": [
    "import pandas as pd\n",
    "import numpy as np\n",
    "import datetime, time\n",
    "import matplotlib.pyplot as plt\n",
    "from IPython.display import display, HTML"
   ]
  },
  {
   "cell_type": "code",
   "execution_count": 4,
   "metadata": {},
   "outputs": [
    {
     "data": {
      "text/plain": [
       "'\\nRead all your files\\n'"
      ]
     },
     "execution_count": 4,
     "metadata": {},
     "output_type": "execute_result"
    }
   ],
   "source": [
    "#Read all your files\n",
    "appt_file = \"location of your file\"\n",
    "user_note = \"location of your file\""
   ]
  },
  {
   "cell_type": "code",
   "execution_count": 6,
   "metadata": {},
   "outputs": [],
   "source": [
    "#make sure you specify the row number of your header\n",
    "df_data = pd.read_csv(appt_file, header=1) \n",
    "df_note = pd.read_csv(user_note, header=1)"
   ]
  },
  {
   "cell_type": "code",
   "execution_count": 73,
   "metadata": {},
   "outputs": [],
   "source": [
    "'''\n",
    "Rename headers/other values if you have/want to\n",
    "Using rename function: dataframe.rename(columns={current_name:new_name})\n",
    "\n",
    "inplace function: changes the names/executes a function in the same dataframe\n",
    "'''\n",
    "\n",
    "df_data.rename(columns = {\"School Of\": \"college_name\", \"ClassLevel\": \"student_class\", \n",
    "                                     \"Name\": \"student_name\",\"Appt Type\":\"type\", \"Admin First Name\": \"admin_fName\",\n",
    "                                    \"Admin Last Name\": \"admin_lName\", \"Start Time\": \"s_time\", \"End Time\":\"e_time\",\n",
    "                                    \"Arrival Wait Time\": \"wait_time\", \"Class Level\":\"student_class\",\n",
    "                         'Student Id': 'ID'}, inplace=True)\n"
   ]
  },
  {
   "cell_type": "code",
   "execution_count": null,
   "metadata": {},
   "outputs": [],
   "source": [
    "'''\n",
    "An alternative of rename is replace\n",
    "Using replace function: dataframe.replace('new_name', 'current_name')\n",
    "use inplace function to execute changes within the same dataframe\n",
    "'''\n",
    "\n",
    "#Same parameter had different names, so I used replace function to change them to the same name. Helps get accurate count\n",
    "df_data.replace('College of Behavioral and Social Sciences', 'Behavioral and Social Sciences', inplace=True)\n",
    "df_data.replace('College of Health Professions', 'Health Professions', inplace=True)\n",
    "df_data.replace('Graduate Masters', 'Masters', inplace=True)\n",
    "df_data.replace('Engineering/Information Tech', 'Engineering and Computing', inplace=True)"
   ]
  },
  {
   "cell_type": "code",
   "execution_count": null,
   "metadata": {},
   "outputs": [],
   "source": [
    "#join values of two cells in two columns\n",
    "df_data[\"admin_name\"] = df_data[[\"admin_fName\", \"admin_lName\"]].apply(lambda x: ' '.join(x), axis=1) \n",
    "\n",
    "#Convert student ID to string\n",
    "df_data['ID'] = df_data.ID.apply(str)"
   ]
  },
  {
   "cell_type": "code",
   "execution_count": 74,
   "metadata": {},
   "outputs": [
    {
     "data": {
      "text/plain": [
       "(28, 22)"
      ]
     },
     "execution_count": 74,
     "metadata": {},
     "output_type": "execute_result"
    }
   ],
   "source": [
    "'''\n",
    ".shape functions gives you the dimension of the dataframe\n",
    "'''\n",
    "df_data.shape #Total rows in csv minus the header"
   ]
  },
  {
   "cell_type": "code",
   "execution_count": 75,
   "metadata": {},
   "outputs": [
    {
     "name": "stdout",
     "output_type": "stream",
     "text": [
      "20.81666666666667\n",
      "27\n",
      "0.7709876543209878\n",
      "Average Wait Length(in minutes): 00:46\n"
     ]
    }
   ],
   "source": [
    "#CALCULATE AVERAGE WAIT TIME\n",
    "\n",
    "df_data['s_time'] = pd.to_datetime(df_data['s_time'])\n",
    "df_data['Check-In Time'] = pd.to_datetime(df_data['Check-In Time'])\n",
    "\n",
    "df_data[\"wait\"] = df_data['s_time'] - df_data['Check-In Time']\n",
    "\n",
    "df_data[\"wait\"]=df_data[\"wait\"]/np.timedelta64(1,'m')\n",
    "\n",
    "# print(type(df_data[\"wait\"]))\n",
    "# print(df_data['wait'])\n",
    "\n",
    "sum_ = 0\n",
    "len_ = 0\n",
    "for i in df_data[\"wait\"]:\n",
    "#     print(type(i))\n",
    "    if i > 0.0 and i < 150:\n",
    "        sum_ = sum_ + i\n",
    "        len_ = len_+1\n",
    "print(sum_)\n",
    "print(len_)\n",
    "\n",
    "avg_wait = float(sum_/len_)\n",
    "\n",
    "print(avg_wait)\n",
    "\n",
    "wait_result = '{0:02.0f}:{1:02.0f}'.format(*divmod(avg_wait * 60, 60))\n",
    "print(\"Average Wait Length(in minutes): \" + wait_result)"
   ]
  },
  {
   "cell_type": "code",
   "execution_count": 76,
   "metadata": {},
   "outputs": [
    {
     "data": {
      "text/html": [
       "<div>\n",
       "<style scoped>\n",
       "    .dataframe tbody tr th:only-of-type {\n",
       "        vertical-align: middle;\n",
       "    }\n",
       "\n",
       "    .dataframe tbody tr th {\n",
       "        vertical-align: top;\n",
       "    }\n",
       "\n",
       "    .dataframe thead th {\n",
       "        text-align: right;\n",
       "    }\n",
       "</style>\n",
       "<table border=\"1\" class=\"dataframe\">\n",
       "  <thead>\n",
       "    <tr style=\"text-align: right;\">\n",
       "      <th></th>\n",
       "      <th>Admin Name</th>\n",
       "      <th>Meeting Type</th>\n",
       "      <th>Check-In Time</th>\n",
       "      <th>Date &amp; Start Time</th>\n",
       "      <th>Student Name</th>\n",
       "      <th>ID</th>\n",
       "      <th>College Name</th>\n",
       "    </tr>\n",
       "  </thead>\n",
       "  <tbody>\n",
       "  </tbody>\n",
       "</table>\n",
       "</div>"
      ],
      "text/plain": [
       "Empty DataFrame\n",
       "Columns: [Admin Name, Meeting Type, Check-In Time, Date & Start Time, Student Name, ID, College Name]\n",
       "Index: []"
      ]
     },
     "execution_count": 76,
     "metadata": {},
     "output_type": "execute_result"
    }
   ],
   "source": [
    "#FLAGS FOR WAIT TIME GREATER THAN 15 MINUTES\n",
    "\n",
    "flag_wait = df_data.loc[df_data['wait'] >= 15]\n",
    "flag_wait = flag_wait[['student_name', 'college_name','ID', 'admin_name','type','Check-In Time', 's_time']]\n",
    "# flag_wait.rename(columns={'student_name': 'Student Name', 'college_name': 'College Name', 'admin_name': 'Admin Name', \n",
    "#                           'type': 'Meeting Type', 's_time': 'Date & Start Time'}, inplace=True)\n",
    "\n",
    "flag_wait.rename(columns={'admin_name': 'Admin Name', 'type': 'Meeting Type', 'student_name': 'Student Name', \n",
    "                          'college_name': 'College Name', 's_time': 'Date & Start Time'}, inplace=True)\n",
    "\n",
    "\n",
    "flag_wait = flag_wait[['Admin Name', 'Meeting Type', 'Check-In Time', 'Date & Start Time', 'Student Name', 'ID', 'College Name']]\n",
    "\n",
    "flag_wait['Check-In Time']= flag_wait['Check-In Time'].dt.strftime('%H-%M-%S')\n",
    "flag_wait['Date & Start Time']= flag_wait['Date & Start Time'].dt.strftime('%H-%M-%S')\n",
    "flag_wait.sort_values('Admin Name')"
   ]
  },
  {
   "cell_type": "code",
   "execution_count": 77,
   "metadata": {},
   "outputs": [],
   "source": [
    "#write to file\n",
    "\n",
    "(HTML(flag_wait.to_html(header=True,index=False, justify='right',col_space= 100, show_dimensions = True)))\n",
    "path = \"input location\"\n",
    "flag_wait.to_csv('wait_time.csv',sep=',', encoding='utf-8')"
   ]
  },
  {
   "cell_type": "code",
   "execution_count": 78,
   "metadata": {},
   "outputs": [
    {
     "data": {
      "text/html": [
       "<div>\n",
       "<style scoped>\n",
       "    .dataframe tbody tr th:only-of-type {\n",
       "        vertical-align: middle;\n",
       "    }\n",
       "\n",
       "    .dataframe tbody tr th {\n",
       "        vertical-align: top;\n",
       "    }\n",
       "\n",
       "    .dataframe thead th {\n",
       "        text-align: right;\n",
       "    }\n",
       "</style>\n",
       "<table border=\"1\" class=\"dataframe\">\n",
       "  <thead>\n",
       "    <tr style=\"text-align: right;\">\n",
       "      <th></th>\n",
       "      <th>0</th>\n",
       "    </tr>\n",
       "    <tr>\n",
       "      <th>student_class</th>\n",
       "      <th></th>\n",
       "    </tr>\n",
       "  </thead>\n",
       "  <tbody>\n",
       "    <tr>\n",
       "      <th>Freshman</th>\n",
       "      <td>4</td>\n",
       "    </tr>\n",
       "    <tr>\n",
       "      <th>Sophomore</th>\n",
       "      <td>6</td>\n",
       "    </tr>\n",
       "    <tr>\n",
       "      <th>Junior</th>\n",
       "      <td>5</td>\n",
       "    </tr>\n",
       "    <tr>\n",
       "      <th>Senior</th>\n",
       "      <td>8</td>\n",
       "    </tr>\n",
       "    <tr>\n",
       "      <th>Masters</th>\n",
       "      <td>4</td>\n",
       "    </tr>\n",
       "  </tbody>\n",
       "</table>\n",
       "</div>"
      ],
      "text/plain": [
       "               0\n",
       "student_class   \n",
       "Freshman       4\n",
       "Sophomore      6\n",
       "Junior         5\n",
       "Senior         8\n",
       "Masters        4"
      ]
     },
     "metadata": {},
     "output_type": "display_data"
    },
    {
     "data": {
      "image/png": "[encoded data removed]",
      "text/plain": [
       "<Figure size 864x720 with 1 Axes>"
      ]
     },
     "metadata": {
      "needs_background": "light"
     },
     "output_type": "display_data"
    }
   ],
   "source": [
    "'''\n",
    "Summarize and visualize student attendance by student class: freshmen, sophomore, junior, senior, master's, PhD\n",
    "Visualize with bar chart\n",
    "'''\n",
    "\n",
    "#groups the specified column by each parameter, and counts the total occurence of each parameter\n",
    "class_count = df_data.groupby('student_class').size() \n",
    "\n",
    "#sort_values function: sorts by the specified order. If you want to sort in ascending order, set ascending=True\n",
    "class_count = class_count.sort_values(ascending=False) \n",
    "\n",
    "'''\n",
    "But you need it in this order: 'Freshman', 'Sophomore', 'Junior', 'Senior', 'Masters'\n",
    "create a list as shown below(list name is reindex)\n",
    "now use the reindex function and pass new_index as the parameter\n",
    "'''\n",
    "new_index = ['Freshman', 'Sophomore', 'Junior', 'Senior', 'Masters']\n",
    "class_count = class_count.reindex(new_index)\n",
    "\n",
    "\n",
    "display(class_count.to_frame().fillna(0))"
   ]
  },
  {
   "cell_type": "code",
   "execution_count": null,
   "metadata": {},
   "outputs": [],
   "source": [
    "#Visulaize class count as a barchart\n",
    "'''\n",
    "I used pandas visualization function, which basically just uses matplotlib's bar plot\n",
    "Set x-axis and y-axis, figure size and the color of the bars\n",
    "'''\n",
    "student_classBar = class_count.plot.bar(x='student_class', y='class_count', figsize=(12,10),color=[\"blue\", \"gold\"])\n",
    "\n",
    "#lABEL GRAPH\n",
    "student_classBar.set_title(\"Classification\", fontsize=18)\n",
    "\n",
    "#ANNOTATE BARS: you want to label each bar with the count for each parameter\n",
    "totals = []\n",
    "\n",
    "# find the values and append to list\n",
    "for i in student_classBar.patches:\n",
    "    totals.append(i.get_width())\n",
    "\n",
    "# set individual bar lables using above list\n",
    "total = sum(totals)\n",
    "\n",
    "# set individual bar lables using above list\n",
    "for i in student_classBar.patches:\n",
    "    # get_width pulls left or right; get_y pushes up or down\n",
    "    if i.get_height()>0:\n",
    "        student_classBar.text(i.get_x()+0.2, i.get_height()+0.2, \\\n",
    "            str(i.get_height()), fontsize=10, color='black')\n",
    "\n",
    "# invert for largest on top \n",
    "# student_classBar.invert_yaxis()"
   ]
  },
  {
   "cell_type": "code",
   "execution_count": 79,
   "metadata": {},
   "outputs": [
    {
     "data": {
      "text/html": [
       "<div>\n",
       "<style scoped>\n",
       "    .dataframe tbody tr th:only-of-type {\n",
       "        vertical-align: middle;\n",
       "    }\n",
       "\n",
       "    .dataframe tbody tr th {\n",
       "        vertical-align: top;\n",
       "    }\n",
       "\n",
       "    .dataframe thead th {\n",
       "        text-align: right;\n",
       "    }\n",
       "</style>\n",
       "<table border=\"1\" class=\"dataframe\">\n",
       "  <thead>\n",
       "    <tr style=\"text-align: right;\">\n",
       "      <th></th>\n",
       "      <th>0</th>\n",
       "    </tr>\n",
       "    <tr>\n",
       "      <th>college_name</th>\n",
       "      <th></th>\n",
       "    </tr>\n",
       "  </thead>\n",
       "  <tbody>\n",
       "    <tr>\n",
       "      <th>Business</th>\n",
       "      <td>20</td>\n",
       "    </tr>\n",
       "    <tr>\n",
       "      <th>Health Professions</th>\n",
       "      <td>2</td>\n",
       "    </tr>\n",
       "    <tr>\n",
       "      <th>Public Health</th>\n",
       "      <td>2</td>\n",
       "    </tr>\n",
       "    <tr>\n",
       "      <th>Science and Mathematics</th>\n",
       "      <td>4</td>\n",
       "    </tr>\n",
       "  </tbody>\n",
       "</table>\n",
       "</div>"
      ],
      "text/plain": [
       "                          0\n",
       "college_name               \n",
       "Business                 20\n",
       "Health Professions        2\n",
       "Public Health             2\n",
       "Science and Mathematics   4"
      ]
     },
     "metadata": {},
     "output_type": "display_data"
    },
    {
     "data": {
      "text/plain": [
       "Text(0.5, 1.0, 'College')"
      ]
     },
     "execution_count": 79,
     "metadata": {},
     "output_type": "execute_result"
    },
    {
     "data": {
      "image/png": "[encoded data removed]",
      "text/plain": [
       "<Figure size 720x720 with 1 Axes>"
      ]
     },
     "metadata": {},
     "output_type": "display_data"
    }
   ],
   "source": [
    "#Summarize attendance by College: Visualize with a pie chart\n",
    "\n",
    "college_count = df_data.groupby('college_name').size()\n",
    "display(college_count.to_frame())\n",
    "\n",
    "\n",
    "colors =  [\"#E13F29\", \"#D69A80\", \"#D63B59\", \"#AE5552\", \"#CB5C3B\", \"#EB8076\", \"#96624E\"]\n",
    "col_plot = college_count.plot(kind='pie', autopct=lambda p: '{:.1f}%({:.0f})'.format(p, (p/100)*college_count.sum()), \n",
    "                              figsize=[10,10], startangle=45)\n",
    "col_plot.set_title(\"College\", fontsize=18)"
   ]
  },
  {
   "cell_type": "code",
   "execution_count": 80,
   "metadata": {},
   "outputs": [
    {
     "data": {
      "image/png": "[encoded data removed]",
      "text/plain": [
       "<Figure size 576x288 with 1 Axes>"
      ]
     },
     "metadata": {
      "needs_background": "light"
     },
     "output_type": "display_data"
    }
   ],
   "source": [
    "#Summarize and visualize the type of appointments with a horizontal bar chart\n",
    "\n",
    "appt_type_count = df_data.groupby('type').size()\n",
    "appt_type_count = appt_type_count.sort_values(ascending=True)\n",
    "appt_typeBarh = appt_type_count.plot.barh(x='appt_type_count', y='type',figsize=(8,4),color=\"slateblue\")\n",
    "\n",
    "#lABEL GRAPH\n",
    "appt_typeBarh.set_title(\"Overview\", fontsize=18)\n",
    "\n",
    "#SET AXIS\n",
    "# appt_typeBarh.set_xticks([0,2,4,6,8])\n",
    "\n",
    "#ANNOTATE BARHS\n",
    "totals = []\n",
    "\n",
    "# find the values and append to list\n",
    "for i in appt_typeBarh.patches:\n",
    "    totals.append(i.get_width())\n",
    "\n",
    "# set individual bar lables using above list\n",
    "total = sum(totals)\n",
    "\n",
    "# set individual bar lables using above list\n",
    "for i in appt_typeBarh.patches:\n",
    "    # get_width pulls left or right; get_y pushes up or down\n",
    "    appt_typeBarh.text(i.get_width()+.01, i.get_y()+.25, \\\n",
    "            str(i.get_width()), fontsize=10, color='dimgrey')\n",
    "\n",
    "# invert for largest on top \n",
    "# appt_ServiceBarh.invert_yaxis()\n"
   ]
  },
  {
   "cell_type": "code",
   "execution_count": 93,
   "metadata": {},
   "outputs": [
    {
     "data": {
      "image/png": "[encoded data removed]",
      "text/plain": [
       "<Figure size 864x720 with 1 Axes>"
      ]
     },
     "metadata": {
      "needs_background": "light"
     },
     "output_type": "display_data"
    }
   ],
   "source": [
    "#SERVICE PROVIDED\n",
    "\n",
    "df_data['COUNTER'] = 0       #initially, set that counter to 0.\n",
    "group_service = df_data.groupby(['Service Requested', 'type'])['COUNTER'].size()\n",
    "\n",
    "group_service = group_service.sort_values(ascending=True)\n",
    "display(group_service.to_frame())\n",
    "\n",
    "group_service_barh = group_service.unstack().plot(kind='bar',figsize=(12,10), color=['red', 'slateblue', \"orange\",\"green\"], \n",
    "                                                  width=1.05)\n",
    "group_service_barh.set_alpha(11)\n",
    "# group_service_barh.set_yticks([100,200,300,400,500,600])\n",
    "\n",
    "#lABEL GRAPH\n",
    "group_service_barh.set_title(\"Services Provided\", fontsize=18)\n",
    "    \n",
    "#SET AXIS\n",
    "# group_service_barh.set_xticks([0,2,4,6,8])\n",
    "\n",
    "#ANNOTATE BARHS\n",
    "totals = []\n",
    "\n",
    "# find the values and append to list\n",
    "for i in group_service_barh.patches:\n",
    "    totals.append(i.get_width())\n",
    "\n",
    "# set individual bar lables using above list\n",
    "\n",
    "total = sum(totals)\n",
    "\n",
    "# set individual bar lables using above list\n",
    "for i in group_service_barh.patches:\n",
    "    # get_width pulls left or right; get_y pushes up or down\n",
    "    if i.get_height()>0:\n",
    "        group_service_barh.text(i.get_x()+0.25, i.get_height()+0.1, \\\n",
    "                str(i.get_height()), fontsize=10, color='black',rotation=90)\n"
   ]
  },
  {
   "cell_type": "code",
   "execution_count": 94,
   "metadata": {},
   "outputs": [
    {
     "data": {
      "text/html": [
       "<div>\n",
       "<style scoped>\n",
       "    .dataframe tbody tr th:only-of-type {\n",
       "        vertical-align: middle;\n",
       "    }\n",
       "\n",
       "    .dataframe tbody tr th {\n",
       "        vertical-align: top;\n",
       "    }\n",
       "\n",
       "    .dataframe thead th {\n",
       "        text-align: right;\n",
       "    }\n",
       "</style>\n",
       "<table border=\"1\" class=\"dataframe\">\n",
       "  <thead>\n",
       "    <tr style=\"text-align: right;\">\n",
       "      <th></th>\n",
       "      <th></th>\n",
       "      <th>COUNTER</th>\n",
       "    </tr>\n",
       "    <tr>\n",
       "      <th>Service Requested</th>\n",
       "      <th>type</th>\n",
       "      <th></th>\n",
       "    </tr>\n",
       "  </thead>\n",
       "  <tbody>\n",
       "    <tr>\n",
       "      <th>Internship and/or Co-Op</th>\n",
       "      <th>scheduled</th>\n",
       "      <td>1</td>\n",
       "    </tr>\n",
       "    <tr>\n",
       "      <th>Job Shadow</th>\n",
       "      <th>scheduled</th>\n",
       "      <td>1</td>\n",
       "    </tr>\n",
       "    <tr>\n",
       "      <th>Internship/Job Search Assistance</th>\n",
       "      <th>scheduled</th>\n",
       "      <td>2</td>\n",
       "    </tr>\n",
       "    <tr>\n",
       "      <th>Mock Interview</th>\n",
       "      <th>scheduled</th>\n",
       "      <td>2</td>\n",
       "    </tr>\n",
       "    <tr>\n",
       "      <th>Major/Career Exploration</th>\n",
       "      <th>scheduled</th>\n",
       "      <td>3</td>\n",
       "    </tr>\n",
       "    <tr>\n",
       "      <th>FOCUS Assessment Interpretation</th>\n",
       "      <th>scheduled</th>\n",
       "      <td>4</td>\n",
       "    </tr>\n",
       "    <tr>\n",
       "      <th>Resume Review</th>\n",
       "      <th>scheduled</th>\n",
       "      <td>10</td>\n",
       "    </tr>\n",
       "    <tr>\n",
       "      <th>Other</th>\n",
       "      <th>walk-in</th>\n",
       "      <td>1</td>\n",
       "    </tr>\n",
       "    <tr>\n",
       "      <th>Resume Review</th>\n",
       "      <th>walk-in</th>\n",
       "      <td>4</td>\n",
       "    </tr>\n",
       "  </tbody>\n",
       "</table>\n",
       "</div>"
      ],
      "text/plain": [
       "                                            COUNTER\n",
       "Service Requested                type              \n",
       "Internship and/or Co-Op          scheduled        1\n",
       "Job Shadow                       scheduled        1\n",
       "Internship/Job Search Assistance scheduled        2\n",
       "Mock Interview                   scheduled        2\n",
       "Major/Career Exploration         scheduled        3\n",
       "FOCUS Assessment Interpretation  scheduled        4\n",
       "Resume Review                    scheduled       10\n",
       "Other                            walk-in          1\n",
       "Resume Review                    walk-in          4"
      ]
     },
     "metadata": {},
     "output_type": "display_data"
    }
   ],
   "source": [
    "# group_service = group_service.groupby('type').size()\n",
    "# display(HTML(group_service.to_html()))\n",
    "# display(group_service)\n",
    "\n",
    "group_service = group_service.to_frame()\n",
    "group_s = group_service.sort_values('type')\n",
    "display(group_s)"
   ]
  },
  {
   "cell_type": "code",
   "execution_count": 83,
   "metadata": {},
   "outputs": [],
   "source": [
    "#Find Meeting Length\n",
    "df_data[\"e_time\"] = pd.to_datetime(df_data[\"e_time\"])\n",
    "df_data[\"s_time\"] = pd.to_datetime(df_data[\"s_time\"])\n",
    "\n",
    "# display(df_data[\"e_time\"])\n",
    "# display(df_data[\"s_time\"])\n",
    "\n",
    "df_data[\"meeting_len\"] = df_data['e_time'] - df_data['s_time']\n",
    "\n",
    "# display(df_data['meeting_len'])\n",
    "\n",
    "#Convert to Minutes\n",
    "df_data[\"meeting_len\"]=df_data[\"meeting_len\"]/np.timedelta64(1,'m')\n",
    "# print(type(df_data[\"meeting_len\"]))\n",
    "\n",
    "df_data[\"meeting_len\"]=df_data[\"meeting_len\"].fillna(0)"
   ]
  },
  {
   "cell_type": "code",
   "execution_count": 84,
   "metadata": {},
   "outputs": [
    {
     "data": {
      "text/plain": [
       "0      33.666667\n",
       "1       8.016667\n",
       "2      21.066667\n",
       "3      89.050000\n",
       "4       9.500000\n",
       "5     298.633333\n",
       "6       0.000000\n",
       "7      24.133333\n",
       "8      15.116667\n",
       "9      46.750000\n",
       "10      0.000000\n",
       "11     42.416667\n",
       "12     65.816667\n",
       "13     50.450000\n",
       "14     54.616667\n",
       "15     51.850000\n",
       "16     19.733333\n",
       "17     59.033333\n",
       "18     33.000000\n",
       "19     87.600000\n",
       "20     16.833333\n",
       "21     42.150000\n",
       "22     24.233333\n",
       "23     20.700000\n",
       "24     44.133333\n",
       "25     44.866667\n",
       "26     33.600000\n",
       "27     22.866667\n",
       "Name: meeting_len, dtype: float64"
      ]
     },
     "metadata": {},
     "output_type": "display_data"
    },
    {
     "name": "stdout",
     "output_type": "stream",
     "text": [
      "1259.8333333333335\n",
      "28\n",
      "44.99404761904763\n",
      "Average Meeting Length: 44:60\n"
     ]
    }
   ],
   "source": [
    "display(df_data[\"meeting_len\"])\n",
    "\n",
    "#Calculate Average Meeting Length\n",
    "\n",
    "sum_ = 0\n",
    "len_ = 0\n",
    "for i in df_data[\"meeting_len\"]:\n",
    "#     print(type(i))\n",
    "    if i < 1500:\n",
    "#         print(i)\n",
    "        sum_ = sum_ + i\n",
    "        len_ = len_+1\n",
    "print(sum_)\n",
    "print(len_)\n",
    "\n",
    "avg_meet_len = float(sum_/len_)\n",
    "\n",
    "print(avg_meet_len)\n",
    "\n",
    "result = '{0:02.0f}:{1:02.0f}'.format(*divmod(avg_meet_len * 60, 60))\n",
    "print(\"Average Meeting Length: \" + result)"
   ]
  },
  {
   "cell_type": "code",
   "execution_count": 85,
   "metadata": {},
   "outputs": [],
   "source": [
    "#EMPLOYEE ANALYSIS\n",
    "df_data['counter'] = 0\n",
    "employee_service = df_data.groupby(['type', 'admin_name' ])['counter'].size()\n",
    "# print(employee_service)"
   ]
  },
  {
   "cell_type": "code",
   "execution_count": 86,
   "metadata": {},
   "outputs": [
    {
     "data": {
      "text/html": [
       "<div>\n",
       "<style scoped>\n",
       "    .dataframe tbody tr th:only-of-type {\n",
       "        vertical-align: middle;\n",
       "    }\n",
       "\n",
       "    .dataframe tbody tr th {\n",
       "        vertical-align: top;\n",
       "    }\n",
       "\n",
       "    .dataframe thead th {\n",
       "        text-align: right;\n",
       "    }\n",
       "</style>\n",
       "<table border=\"1\" class=\"dataframe\">\n",
       "  <thead>\n",
       "    <tr style=\"text-align: right;\">\n",
       "      <th></th>\n",
       "      <th>Employee Name</th>\n",
       "      <th>Appointment Type</th>\n",
       "      <th>Total Appointments</th>\n",
       "    </tr>\n",
       "  </thead>\n",
       "  <tbody>\n",
       "    <tr>\n",
       "      <th>3</th>\n",
       "      <td>Brandon Solie</td>\n",
       "      <td>scheduled</td>\n",
       "      <td>1</td>\n",
       "    </tr>\n",
       "    <tr>\n",
       "      <th>2</th>\n",
       "      <td>Caroline Davis</td>\n",
       "      <td>scheduled</td>\n",
       "      <td>7</td>\n",
       "    </tr>\n",
       "    <tr>\n",
       "      <th>0</th>\n",
       "      <td>Rachael Barrett</td>\n",
       "      <td>scheduled</td>\n",
       "      <td>15</td>\n",
       "    </tr>\n",
       "    <tr>\n",
       "      <th>1</th>\n",
       "      <td>Rachael Barrett</td>\n",
       "      <td>walk-in</td>\n",
       "      <td>5</td>\n",
       "    </tr>\n",
       "  </tbody>\n",
       "</table>\n",
       "</div>"
      ],
      "text/plain": [
       "     Employee Name Appointment Type  Total Appointments\n",
       "3    Brandon Solie        scheduled                   1\n",
       "2   Caroline Davis        scheduled                   7\n",
       "0  Rachael Barrett        scheduled                  15\n",
       "1  Rachael Barrett          walk-in                   5"
      ]
     },
     "execution_count": 86,
     "metadata": {},
     "output_type": "execute_result"
    }
   ],
   "source": [
    "df_note.rename(columns={'Name':'Employee Name','Method': 'Appointment Type', 'Total Notes': 'Count'}, inplace=True)\n",
    "# display(df_note)\n",
    "df_note['Appointment Type'].fillna('No Input', inplace=True)\n",
    "# df_note.sort_values(by=['Count'], inplace=True, ascending=False)\n",
    "df_note.groupby(['Employee Name','Appointment Type']).size()\n",
    "df_note.sort_values('Employee Name')"
   ]
  },
  {
   "cell_type": "code",
   "execution_count": 160,
   "metadata": {},
   "outputs": [],
   "source": [
    "# display(HTML(df_note.to_html(header=True, index=False, justify='justify-all',col_space= 150, show_dimensions=True)))"
   ]
  },
  {
   "cell_type": "code",
   "execution_count": 21,
   "metadata": {},
   "outputs": [],
   "source": [
    "# wait_time = r\"C:\\Users\\sushmita-khan\\Desktop\\Career Development Report\\OCT_1\\wait_time.csv\"\n",
    "# df_wait = pd.read_csv(wait_time, header=0)\n",
    "\n",
    "# df_wait.rename(columns = {\"Date & Start Time\": \"start_time\"}, inplace=True)"
   ]
  },
  {
   "cell_type": "code",
   "execution_count": 20,
   "metadata": {},
   "outputs": [],
   "source": [
    "# df_wait"
   ]
  },
  {
   "cell_type": "code",
   "execution_count": 21,
   "metadata": {},
   "outputs": [],
   "source": [
    "# df_wait[\"Check-In Time\"] = pd.to_datetime(df_wait[\"Check-In Time\"])\n",
    "# df_wait[\"start_time\"] = pd.to_datetime(df_wait[\"start_time\"])\n",
    "\n",
    "# df_wait[\"Wait Time\"] = df_wait[\"start_time\"] - df_wait[\"Check-In Time\"]\n",
    "\n",
    "\n",
    "# df_wait[\"Wait Time\"]=df_wait[\"Wait Time\"].fillna(0)\n",
    "# df_wait[\"Wait Time\"] = pd.to_datetime(df_wait[\"Wait Time\"])\n",
    "# df_wait[\"Wait Time\"] = df_wait[\"Wait Time\"].dt.minute\n",
    "\n",
    "# df_wait"
   ]
  },
  {
   "cell_type": "code",
   "execution_count": 22,
   "metadata": {},
   "outputs": [],
   "source": [
    "# df_wait['COUNTER'] = 0\n",
    "# mace_wait = df_wait.groupby(['Meeting Type', 'Admin Name', 'Wait Time'])['COUNTER'].size()\n",
    "\n",
    "# mace_wait = mace_wait.to_frame()"
   ]
  },
  {
   "cell_type": "code",
   "execution_count": 23,
   "metadata": {},
   "outputs": [],
   "source": [
    "# mace_wait"
   ]
  },
  {
   "cell_type": "code",
   "execution_count": 24,
   "metadata": {},
   "outputs": [],
   "source": [
    "# display(HTML(mace_wait.to_html(header=True)))"
   ]
  },
  {
   "cell_type": "code",
   "execution_count": null,
   "metadata": {},
   "outputs": [],
   "source": []
  }
 ],
 "metadata": {
  "kernelspec": {
   "display_name": "Python 3",
   "language": "python",
   "name": "python3"
  },
  "language_info": {
   "codemirror_mode": {
    "name": "ipython",
    "version": 3
   },
   "file_extension": ".py",
   "mimetype": "text/x-python",
   "name": "python",
   "nbconvert_exporter": "python",
   "pygments_lexer": "ipython3",
   "version": "3.7.1"
  }
 },
 "nbformat": 4,
 "nbformat_minor": 2
}
