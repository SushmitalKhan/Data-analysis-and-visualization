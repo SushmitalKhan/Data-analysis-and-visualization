{
 "cells": [
  {
   "cell_type": "code",
   "execution_count": null,
   "metadata": {},
   "outputs": [],
   "source": [
    "import pandas as pd\n",
    "import datetime, time"
   ]
  },
  {
   "cell_type": "code",
   "execution_count": null,
   "metadata": {},
   "outputs": [],
   "source": [
    "#Read all your files\n",
    "appt_file = \"location of your file\"\n",
    "\n",
    "df_data = pd.read_csv(appt_file, header=1) #specify the row number of your header"
   ]
  },
  {
   "cell_type": "code",
   "execution_count": null,
   "metadata": {},
   "outputs": [],
   "source": [
    "#CALCULATE AVERAGE WAIT TIME\n",
    "\n",
    "#convert to datetimeformat\n",
    "df_data['s_time'] = pd.to_datetime(df_data['s_time'])\n",
    "df_data['Check-In Time'] = pd.to_datetime(df_data[\"Check-In Time\"])\n",
    "\n",
    "df_data[\"wait\"] = df_data[\"s_time\"] - df_data[\"Check-In Time\"]\n",
    "df_data[\"wait\"]=df_data[\"wait\"]/np.timedelta64(1,\"m\") #convert to minutes\n",
    "\n",
    "type(df_data[\"wait\"])\n",
    "print(df_data[\"wait\"])"
   ]
  },
  {
   "cell_type": "code",
   "execution_count": null,
   "metadata": {},
   "outputs": [],
   "source": [
    "#Set filter for appointments that has wait time of over 15 minutes\n",
    "sum_ = 0\n",
    "len_ = 0\n",
    "for i in df_data[\"wait\"]\n",
    "    if i > 0.0 and i < 150:\n",
    "        sum_ = sum_ + i\n",
    "        len_ = len_+1\n",
    "print(sum_)\n",
    "print(len_)\n",
    "\n",
    "avg_wait = float(sum_/len_)\n",
    "print(avg_wait)\n",
    "\n",
    "wait_result = '{0:02.0f}:{1:02.0f}'.format(*divmod(avg_wait * 60, 60)) #MM:SS format\n",
    "print(\"Average Wait Length(in minutes): \" + wait_result)"
   ]
  },
  {
   "cell_type": "code",
   "execution_count": null,
   "metadata": {},
   "outputs": [],
   "source": [
    "#FLAGS FOR WAIT TIME GREATER THAN 15 MINUTES\n",
    "\n",
    "flag_wait = df_data.loc[df_data['wait'] >= 15]\n",
    "flag_wait = flag_wait[['student_name', 'college_name','ID', 'admin_name','type','Check-In Time', 's_time']]\n",
    "\n",
    "flag_wait.rename(columns={'admin_name': 'Admin Name', 'type': 'Meeting Type', 'student_name': 'Student Name', \n",
    "                          'college_name': 'College Name', 's_time': 'Date & Start Time'}, inplace=True)\n",
    "\n",
    "\n",
    "flag_wait = flag_wait[['Admin Name', 'Meeting Type', 'Check-In Time', 'Date & Start Time', 'Student Name', 'ID', 'College Name']]\n",
    "\n",
    "flag_wait['Check-In Time']= flag_wait['Check-In Time'].dt.strftime('%H-%M-%S')\n",
    "flag_wait['Date & Start Time']= flag_wait['Date & Start Time'].dt.strftime('%H-%M-%S')\n",
    "flag_wait.sort_values('Admin Name')"
   ]
  },
  {
   "cell_type": "code",
   "execution_count": null,
   "metadata": {},
   "outputs": [],
   "source": [
    "#Find Meeting Length\n",
    "df_data[\"e_time\"] = pd.to_datetime(df_data[\"e_time\"])\n",
    "df_data[\"s_time\"] = pd.to_datetime(df_data[\"s_time\"])\n",
    "\n",
    "# display(df_data[\"e_time\"])\n",
    "# display(df_data[\"s_time\"])\n",
    "\n",
    "df_data[\"meeting_len\"] = df_data['e_time'] - df_data['s_time']\n",
    "display(df_data['meeting_len']) #Sanity check\n",
    "\n",
    "#Convert to Minutes\n",
    "df_data[\"meeting_len\"]=df_data[\"meeting_len\"]/np.timedelta64(1,'m')\n",
    "type(df_data[\"meeting_len\"]) #sanity check\n",
    "\n",
    "df_data[\"meeting_len\"]=df_data[\"meeting_len\"].fillna(0)\n",
    "display(df_data[\"meeting_len\"])"
   ]
  },
  {
   "cell_type": "code",
   "execution_count": null,
   "metadata": {},
   "outputs": [],
   "source": [
    "#Calculate Average Meeting Length\n",
    "\n",
    "sum_ = 0\n",
    "len_ = 0\n",
    "for i in df_data[\"meeting_len\"]:\n",
    "#     print(type(i)) #sanity check\n",
    "    if i < 1500:\n",
    "#         print(i) #sanity check\n",
    "        sum_ = sum_ + i\n",
    "        len_ = len_+1\n",
    "print(sum_)\n",
    "print(len_)\n",
    "\n",
    "avg_meet_len = float(sum_/len_)\n",
    "\n",
    "print(avg_meet_len)\n",
    "\n",
    "result = '{0:02.0f}:{1:02.0f}'.format(*divmod(avg_meet_len * 60, 60))\n",
    "print(\"Average Meeting Length: \" + result)"
   ]
  }
 ],
 "metadata": {
  "kernelspec": {
   "display_name": "Python 3",
   "language": "python",
   "name": "python3"
  },
  "language_info": {
   "codemirror_mode": {
    "name": "ipython",
    "version": 3
   },
   "file_extension": ".py",
   "mimetype": "text/x-python",
   "name": "python",
   "nbconvert_exporter": "python",
   "pygments_lexer": "ipython3",
   "version": "3.7.1"
  }
 },
 "nbformat": 4,
 "nbformat_minor": 2
}
